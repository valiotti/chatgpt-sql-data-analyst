{
 "cells": [
  {
   "cell_type": "code",
   "execution_count": null,
   "id": "0ad27c10",
   "metadata": {},
   "outputs": [],
   "source": [
    "import json\n",
    "import openai\n",
    "import os\n",
    "import panel as pn\n",
    "\n",
    "openai.api_key = 'MY_OPENAI_API_KEY' # replace with your OpenAI API key"
   ]
  },
  {
   "cell_type": "code",
   "execution_count": null,
   "id": "8e4669c2",
   "metadata": {},
   "outputs": [],
   "source": [
    "JSON_STORE_PATH = './jsons' # path of the JSON file with the DB schema\n",
    "JSON_NAME = 'my_schema.json' # name of the JSON file\n",
    "DB = 'MY_DB' # type of the DB where the schema is stored (for ChatGPT to generate queries for a specific SQL dialect)\n",
    "print(os.listdir(JSON_STORE_PATH))"
   ]
  },
  {
   "cell_type": "code",
   "execution_count": null,
   "id": "f0675da0",
   "metadata": {},
   "outputs": [],
   "source": [
    "def get_completion(prompt, model='gpt-3.5-turbo', temperature=0):\n",
    "    messages = [{'role': 'user', 'content': prompt}]\n",
    "    response = openai.ChatCompletion.create(\n",
    "        model=model,\n",
    "        messages=messages,\n",
    "        temperature=temperature,\n",
    "    )\n",
    "    return response.choices[0].message['content']\n",
    "\n",
    "def get_completion_from_messages(messages, model='gpt-3.5-turbo', temperature=0):\n",
    "    response = openai.ChatCompletion.create(\n",
    "        model=model,\n",
    "        messages=messages,\n",
    "        temperature=temperature,\n",
    "    )\n",
    "    return response.choices[0].message['content']"
   ]
  },
  {
   "cell_type": "code",
   "execution_count": null,
   "id": "479f8695",
   "metadata": {},
   "outputs": [],
   "source": [
    "def collect_messages(_):\n",
    "    if inp.value == '':\n",
    "        panels.append(pn.Row('System:', pn.pane.Markdown('The input is empty.', width=610, style={'background-color': '#FFB1B1'})))\n",
    "    else:\n",
    "        prompt = inp.value_input\n",
    "        inp.value = ''\n",
    "        context.append({'role': 'user', 'content': f'{prompt}'})\n",
    "        response = get_completion_from_messages(context) \n",
    "        context.append({'role': 'assistant', 'content': f'{response}'})\n",
    "        panels.append(pn.Row('User:', pn.pane.Markdown(prompt, width=600)))\n",
    "        panels.append(pn.Row('Assistant:', pn.pane.Markdown(response, width=600, style={'background-color': '#F6F6F6'})))\n",
    "    return pn.Column(*panels)"
   ]
  },
  {
   "cell_type": "code",
   "execution_count": null,
   "id": "0f851385",
   "metadata": {},
   "outputs": [],
   "source": [
    "# read the DB schema from the JSON file\n",
    "with open(f'{JSON_STORE_PATH}/{JSON_NAME}') as f:\n",
    "    schema = json.load(f)"
   ]
  },
  {
   "cell_type": "code",
   "execution_count": null,
   "id": "c7d266c2",
   "metadata": {},
   "outputs": [],
   "source": [
    "# define the context for ChatGPT providing the DB schema\n",
    "# if you want to reset the chat history, rerun this and the next cell\n",
    "context = [{'role': 'system', 'content': f'''\n",
    "You are an automated service that helps analyze data. \\\n",
    "You answer business questions using SQL queries within the provided database. \\\n",
    "You provide a description for each generated SQL query. \\\n",
    "The database schema is presented in JSON format below, delimited by triple backticks. \\\n",
    "The schema is stored in the {DB} database. \\\n",
    "The user can request code generation for a specific programming language \\\n",
    "to visualize the results obtained from executing the SQL query you provided. \\\n",
    "You respond in a short formal style.\n",
    "The database schema:\n",
    "```{schema}```\n",
    "'''}]"
   ]
  },
  {
   "cell_type": "code",
   "execution_count": null,
   "id": "b6e00f6a",
   "metadata": {
    "scrolled": false
   },
   "outputs": [],
   "source": [
    "# UI - chat between the user and ChatGPT\n",
    "\n",
    "pn.extension()\n",
    "\n",
    "panels = [] # collect display \n",
    "\n",
    "inp = pn.widgets.TextInput(value='Hi', value_input='Hi', placeholder='Enter text here…')\n",
    "button_conversation = pn.widgets.Button(name='Chat!')\n",
    "\n",
    "interactive_conversation = pn.bind(collect_messages, button_conversation)\n",
    "\n",
    "dashboard = pn.Column(\n",
    "    inp,\n",
    "    pn.Row(button_conversation),\n",
    "    pn.panel(interactive_conversation, loading_indicator=True, height=400),\n",
    ")\n",
    "\n",
    "dashboard"
   ]
  }
 ],
 "metadata": {
  "kernelspec": {
   "display_name": "Python 3 (ipykernel)",
   "language": "python",
   "name": "python3"
  },
  "language_info": {
   "codemirror_mode": {
    "name": "ipython",
    "version": 3
   },
   "file_extension": ".py",
   "mimetype": "text/x-python",
   "name": "python",
   "nbconvert_exporter": "python",
   "pygments_lexer": "ipython3",
   "version": "3.9.7"
  }
 },
 "nbformat": 4,
 "nbformat_minor": 5
}
