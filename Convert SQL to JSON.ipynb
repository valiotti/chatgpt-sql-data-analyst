{
 "cells": [
  {
   "cell_type": "code",
   "execution_count": null,
   "id": "d7bb7bd5",
   "metadata": {},
   "outputs": [],
   "source": [
    "import json\n",
    "import openai\n",
    "import os\n",
    "import re\n",
    "\n",
    "openai.api_key = 'MY_OPENAI_API_KEY' # replace with your OpenAI API key"
   ]
  },
  {
   "cell_type": "code",
   "execution_count": null,
   "id": "723ec61f",
   "metadata": {},
   "outputs": [],
   "source": [
    "SQL_SCRIPTS_PATH = './sql_scripts' # input SQL scripts path, 1 script per table\n",
    "JSON_STORE_PATH = './jsons' # path to store a JSON file with results\n",
    "JSON_NAME = 'my_schema.json' # name of the JSON file\n",
    "print(os.listdir(SQL_SCRIPTS_PATH))"
   ]
  },
  {
   "cell_type": "code",
   "execution_count": null,
   "id": "59a7ea5a",
   "metadata": {},
   "outputs": [],
   "source": [
    "def get_completion(prompt, model='gpt-3.5-turbo', temperature=0):\n",
    "    messages = [{'role': 'user', 'content': prompt}]\n",
    "    response = openai.ChatCompletion.create(\n",
    "        model=model,\n",
    "        messages=messages,\n",
    "        temperature=temperature,\n",
    "    )\n",
    "    return response.choices[0].message['content']"
   ]
  },
  {
   "cell_type": "code",
   "execution_count": null,
   "id": "b6ce8b02",
   "metadata": {},
   "outputs": [],
   "source": [
    "# read a SQL script; keep only the CREATE statement,\n",
    "# i.e. if there are any INSERT statements, they will be removed; \n",
    "# you can specify the encoding to read a file if needed\n",
    "def read_create_statement_from_sql_script(path, encoding=None):\n",
    "    with open(path, encoding=encoding) as f:\n",
    "        create_st = re.split('(insert into)', f.read(), flags=re.IGNORECASE)[0].rstrip()\n",
    "    return create_st"
   ]
  },
  {
   "cell_type": "code",
   "execution_count": null,
   "id": "64831959",
   "metadata": {},
   "outputs": [],
   "source": [
    "# define a task for ChatGPT to convert SQL queries into the JSON format\n",
    "base_prompt = f'''\n",
    "Translate the SQL query for table creation below, which is delimited by triple backticks, into JSON format.\n",
    "Use \"table_name\" and \"columns\" as keys. Any other table attributes (such as primary key, constraints, etc.) \\\n",
    "must also be presented as keys. The \"columns\" field must be an array of records, with each record containing \\\n",
    "\"name\" and \"type\" as required keys, and any other optional keys (such as not null, default, auto_increment, etc.). \\\n",
    "If default is NULL, insert null, not string. If default is numeric (int, float, etc.), insert numeric value, not string.\n",
    "Make your response as short as possible so it can be used as Python dict.\n",
    "SQL query:\n",
    "'''"
   ]
  },
  {
   "cell_type": "code",
   "execution_count": null,
   "id": "912bfdd8",
   "metadata": {},
   "outputs": [],
   "source": [
    "# convert SQL queries and collect results in a list\n",
    "json_tables = []\n",
    "for sql_script in os.listdir(SQL_SCRIPTS_PATH):\n",
    "    sql_query = read_create_statement_from_sql_script(f'{SQL_SCRIPTS_PATH}/{sql_script}')\n",
    "    print(f'*** INPUT ***\\n{sql_script}:\\n{sql_query}')\n",
    "    response = get_completion(base_prompt + f'```{sql_query}```')\n",
    "    try:\n",
    "        json_query = json.loads(response)\n",
    "    except Exception as e:\n",
    "        print(e)\n",
    "        json_query = {\n",
    "            'sql_query': sql_query, \n",
    "            'response': response, \n",
    "            'error': e\n",
    "        }\n",
    "    json_tables.append(json_query)\n",
    "    print(f'\\n*** OUTPUT ***\\nJSON:\\n{json_query}')\n",
    "    print('-' * 100)"
   ]
  },
  {
   "cell_type": "code",
   "execution_count": null,
   "id": "6c125da4",
   "metadata": {},
   "outputs": [],
   "source": [
    "# save the result in the JSON format\n",
    "with open(f'{JSON_STORE_PATH}/{JSON_NAME}', 'w') as f:\n",
    "    json.dump(json_tables, f, indent=4)"
   ]
  }
 ],
 "metadata": {
  "kernelspec": {
   "display_name": "Python 3 (ipykernel)",
   "language": "python",
   "name": "python3"
  },
  "language_info": {
   "codemirror_mode": {
    "name": "ipython",
    "version": 3
   },
   "file_extension": ".py",
   "mimetype": "text/x-python",
   "name": "python",
   "nbconvert_exporter": "python",
   "pygments_lexer": "ipython3",
   "version": "3.9.7"
  }
 },
 "nbformat": 4,
 "nbformat_minor": 5
}
